{
 "cells": [
  {
   "cell_type": "code",
   "execution_count": 4,
   "metadata": {},
   "outputs": [],
   "source": [
    "# import os\n",
    "from GAME_CORE.gameplay import GamePlay"
   ]
  },
  {
   "cell_type": "code",
   "execution_count": 5,
   "metadata": {},
   "outputs": [
    {
     "name": "stdout",
     "output_type": "stream",
     "text": [
      "--- Initializing Toxic Shroom Game ---\n",
      "--- Loading Menu ---\n",
      "--- Finished Loading menu DataBase ---\n",
      "--- Loading Account DataBase ---\n",
      "--- Finished Loading Account DataBase ---\n",
      "--- Game Is Loaded @ V0.02 ---\n",
      "--- Current Time Is Fri Jan 20 13:53:44 2023 ---\n"
     ]
    }
   ],
   "source": [
    "demo = GamePlay()"
   ]
  },
  {
   "cell_type": "code",
   "execution_count": null,
   "metadata": {
    "scrolled": false
   },
   "outputs": [
    {
     "name": "stdout",
     "output_type": "stream",
     "text": [
      "Do you want to create/delete account? Y/N N\n",
      "\n",
      ">>> You are currently @ manage_account <<<\n",
      "quit: quit\n",
      "1: login\n",
      "2: manage_account\n",
      "Where do you want to proceed next: 1\n",
      "--- Proceeding to login ---\n",
      ">>> HappySunday is currently logged in <<<\n",
      "Do you want to logout? Y/N N\n",
      "\n",
      ">>> You are currently @ login <<<\n",
      "quit: quit\n",
      "1: manage_account\n",
      "2: character_selection\n",
      "3: login\n",
      "Where do you want to proceed next: 1\n",
      "--- Proceeding to manage_account ---\n",
      "Do you want to create/delete account? Y/N N\n",
      "\n",
      ">>> You are currently @ manage_account <<<\n",
      "quit: quit\n",
      "1: login\n",
      "2: manage_account\n",
      "Where do you want to proceed next: 1\n",
      "--- Proceeding to login ---\n",
      ">>> HappySunday is currently logged in <<<\n",
      "Do you want to logout? Y/N Y\n",
      ">>> Logout Successfully <<<\n",
      ">>> Proceeding to login <<<\n",
      "\n",
      ">>> You are currently @ login <<<\n",
      "quit: quit\n",
      "1: manage_account\n",
      "2: character_selection\n",
      "3: login\n",
      "Where do you want to proceed next: 2\n",
      "--- Proceeding to character_selection ---\n",
      "--- Loading None Info ---\n",
      ">>> Please Log In First <<<\n",
      "--- Finished Loading None Info ---\n",
      "Enter character ID: 2\n",
      ">>> That Character Does Not Exist <<<\n",
      "Enter character ID: 0\n",
      "--- Loading Job Info ---\n",
      "--- Finished Loading Job Info ---\n",
      "\n",
      "Lvl: 12 Swordsman\n",
      "[////////////////////]  470 / 470 100.0 %\n",
      "[////////////////////]  116 / 116 100.0 %\n",
      "[=================== ]  99 %\n",
      "fate\n",
      "\n",
      "Str: 70\n",
      "Dex: 4\n",
      "Luk: 4\n",
      "Int: 4\n",
      "Weapon Attack: 70\n",
      "Magic Attack: 4\n",
      "Accuracy: 100.24 %\n",
      "Evasion: 0.24 %\n",
      "\n",
      ">>> You are currently @ in_game <<<\n",
      "quit: quit\n",
      "1: login\n",
      "2: character_selection\n",
      "3: hene_hoe\n",
      "4: training_ground\n"
     ]
    }
   ],
   "source": [
    "# account: HappySunday\n",
    "# password: HappySunday\n",
    "demo.start()"
   ]
  },
  {
   "cell_type": "code",
   "execution_count": null,
   "metadata": {},
   "outputs": [],
   "source": []
  }
 ],
 "metadata": {
  "kernelspec": {
   "display_name": "Python 3",
   "language": "python",
   "name": "python3"
  }
 },
 "nbformat": 4,
 "nbformat_minor": 4
}
