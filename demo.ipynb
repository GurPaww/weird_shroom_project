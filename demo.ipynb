{
 "cells": [
  {
   "cell_type": "code",
   "execution_count": 1,
   "metadata": {},
   "outputs": [],
   "source": [
    "# import os\n",
    "from GAME_CORE.gameplay import GamePlay"
   ]
  },
  {
   "cell_type": "code",
   "execution_count": 2,
   "metadata": {},
   "outputs": [
    {
     "name": "stdout",
     "output_type": "stream",
     "text": [
      "--- Initializing Toxic Shroom Game ---\n",
      "--- Loading Menu ---\n",
      "--- Finished Loading menu DataBase ---\n",
      "--- Loading Account DataBase ---\n",
      "--- Finished Loading Account DataBase ---\n",
      "--- Game Is Loaded @ V0.02 ---\n",
      "--- Current Time Is Sun Jan 22 16:58:39 2023 ---\n"
     ]
    }
   ],
   "source": [
    "demo = GamePlay()"
   ]
  },
  {
   "cell_type": "code",
   "execution_count": 3,
   "metadata": {
    "scrolled": false
   },
   "outputs": [
    {
     "name": "stdout",
     "output_type": "stream",
     "text": [
      "Which map do you want to go: 4\n",
      "--- Arrived Battle Ground @ Port Road: Six Path Crossway ---\n",
      ">>> [Orange Mushroom] Encountered <<<\n",
      "\n",
      "Weapon Attack: 20\n",
      "Magic Attack: 2\n",
      "Evasion: 0.6 %\n",
      "Attack Type: watt\n",
      "Do you want to take the fight with [Orange Mushroom]? Y/N Y\n",
      "\n",
      "\n",
      "System: [luck] Attacks\n",
      "~ 195 ~\n",
      "\n",
      "Level: 8 Orange Mushroom\n",
      "\n",
      "[                    ]  0 / 60 0.0 %\n",
      "[////////////////////]  5 / 5 100.0 %\n",
      "\n",
      "--- Loading Post-Battle Summary ---\n",
      "System: Gained 15 Exp\n",
      "System: Looted:\n",
      "59 Mesos\n",
      "1 Orange Mushroom Cap\n",
      "\n",
      "Lvl: 29 Rogue\n",
      "[////////////////////]  310 / 310 100.0 %\n",
      "[////////////////////]  252 / 252 100.0 %\n",
      "[=================== ]  98.19 %\n",
      "luck\n",
      "--- Saving Current Account Progress ---\n",
      "\n",
      ">>> You are currently @ training_ground <<<\n",
      "quit: quit\n",
      "1: login\n",
      "2: character_selection\n",
      "3: in_game\n",
      "Where do you want to proceed next: 1\n",
      "--- Proceeding to login ---\n",
      ">>> HappySunday is currently logged in <<<\n",
      "Do you want to logout? Y/N Y\n",
      ">>> Logout Successfully <<<\n",
      ">>> Proceeding to manage_account <<<\n",
      "\n",
      ">>> You are currently @ manage_account <<<\n",
      "quit: quit\n",
      "1: login\n",
      "2: manage_account\n",
      "Where do you want to proceed next: 1\n",
      "--- Proceeding to login ---\n",
      "Enter your account: HappySunday\n",
      "Enter your password: HappySunday\n",
      ">>> Login Successfully <<<\n",
      "\n",
      ">>> You are currently @ login <<<\n",
      "quit: quit\n",
      "1: manage_account\n",
      "2: character_selection\n",
      "3: login\n",
      "Where do you want to proceed next: 2\n",
      "--- Proceeding to character_selection ---\n",
      "--- Loading HappySunday Info ---\n",
      "                    0     1\n",
      "character_level    12    29\n",
      "character_exp     299  2911\n",
      "job_id              1     3\n",
      "character_name   fate  luck\n",
      "str                70     4\n",
      "dex                 4     4\n",
      "luk                 4   205\n",
      "int                 4     4\n",
      "sp                  0     0\n",
      "ap                  0     0\n",
      "--- Finished Loading HappySunday Info ---\n",
      "Enter character ID: 1\n",
      "--- Loading Job Info ---\n",
      "--- Finished Loading Job Info ---\n",
      "--- Loading Exp Info ---\n",
      "--- Finished Loading Exp Info ---\n",
      "\n",
      "Lvl: 29 Rogue\n",
      "[////////////////////]  310 / 310 100.0 %\n",
      "[////////////////////]  252 / 252 100.0 %\n",
      "[=================== ]  97.68 %\n",
      "luck\n",
      "\n",
      "Str: 4\n",
      "Dex: 4\n",
      "Luk: 205\n",
      "Int: 4\n",
      "Weapon Attack: 205\n",
      "Magic Attack: 4\n",
      "Accuracy: 100.24 %\n",
      "Evasion: 10.95 %\n",
      "\n",
      ">>> You are currently @ in_game <<<\n",
      "quit: quit\n",
      "1: login\n",
      "2: character_selection\n",
      "3: hene_hoe\n",
      "4: training_ground\n",
      "Where do you want to proceed next: 3\n",
      "--- Proceeding to hene_hoe ---\n",
      "--- Quiting Toxic Shroom Game ---\n",
      "--- Saving Current Account Progress ---\n"
     ]
    },
    {
     "ename": "SystemExit",
     "evalue": "",
     "output_type": "error",
     "traceback": [
      "An exception has occurred, use %tb to see the full traceback.\n",
      "\u001b[0;31mSystemExit\u001b[0m\n"
     ]
    },
    {
     "name": "stderr",
     "output_type": "stream",
     "text": [
      "/Users/glynge/opt/anaconda3/lib/python3.8/site-packages/IPython/core/interactiveshell.py:3351: UserWarning: To exit: use 'exit', 'quit', or Ctrl-D.\n",
      "  warn(\"To exit: use 'exit', 'quit', or Ctrl-D.\", stacklevel=1)\n"
     ]
    }
   ],
   "source": [
    "# account: HappySunday\n",
    "# password: HappySunday\n",
    "demo.start()"
   ]
  },
  {
   "cell_type": "code",
   "execution_count": null,
   "metadata": {},
   "outputs": [],
   "source": []
  },
  {
   "cell_type": "code",
   "execution_count": null,
   "metadata": {},
   "outputs": [],
   "source": []
  }
 ],
 "metadata": {
  "kernelspec": {
   "display_name": "Python 3",
   "language": "python",
   "name": "python3"
  },
  "language_info": {
   "codemirror_mode": {
    "name": "ipython",
    "version": 3
   },
   "file_extension": ".py",
   "mimetype": "text/x-python",
   "name": "python",
   "nbconvert_exporter": "python",
   "pygments_lexer": "ipython3",
   "version": "3.8.3"
  }
 },
 "nbformat": 4,
 "nbformat_minor": 4
}
