{
 "cells": [
  {
   "cell_type": "code",
   "execution_count": 1,
   "metadata": {},
   "outputs": [],
   "source": [
    "# import os\n",
    "from GAME_CORE.gameplay import GamePlay"
   ]
  },
  {
   "cell_type": "code",
   "execution_count": 2,
   "metadata": {},
   "outputs": [
    {
     "name": "stdout",
     "output_type": "stream",
     "text": [
      "--- Initializing Toxic Shroom Game ---\n",
      "--- Loading Menu ---\n",
      "--- Finished Loading menu DataBase ---\n",
      "--- Loading Account DataBase ---\n",
      "--- Finished Loading Account DataBase ---\n",
      "--- Game Is Loaded @ V0.02 ---\n",
      "--- Current Time Is Fri Jan 20 01:25:42 2023 ---\n"
     ]
    }
   ],
   "source": [
    "demo = GamePlay()"
   ]
  },
  {
   "cell_type": "code",
   "execution_count": 3,
   "metadata": {
    "scrolled": false
   },
   "outputs": [
    {
     "name": "stdout",
     "output_type": "stream",
     "text": [
      "Which map do you want to go: 3\n",
      "--- Arrived Battle Ground @ Port Road: Six Path Crossway ---\n",
      ">>> [fate] Encounters [Orange Mushroom] <<<\n",
      "\n",
      "Weapon Attack: 20\n",
      "Magic Attack: 2\n",
      "Evasion: 0.6 %\n",
      "Attack Type: watt\n",
      "\n",
      "\n",
      "System: [fate] Attacks\n",
      "~ 60 ~\n",
      "\n",
      "Level: 8 Orange Mushroom\n",
      "\n",
      "[                    ]  0 / 60 0.0 %\n",
      "[////////////////////]  5 / 5 100.0 %\n",
      "\n",
      "--- Loading Post-Battle Summary ---\n",
      "System: Gained 100 Exp\n",
      "System: Looted:\n",
      "59 Mesos\n",
      "1 Orange Mushroom Cap\n",
      "\n",
      "Lvl: 12 Swordsman\n",
      "[////////////////////]  470 / 470 100.0 %\n",
      "[////////////////////]  116 / 116 100.0 %\n",
      "[=================== ]  99 %\n",
      "fate\n",
      "\n",
      ">>> You are currently @ training_ground <<<\n",
      "quit: quit\n",
      "1: login\n",
      "2: character_selection\n",
      "3: in_game\n",
      "Where do you want to proceed next: 3\n",
      "--- Proceeding to in_game ---\n",
      "\n",
      ">>> You are currently @ in_game <<<\n",
      "quit: quit\n",
      "1: login\n",
      "2: character_selection\n",
      "3: hene_hoe\n",
      "4: training_ground\n",
      "Where do you want to proceed next: quit\n",
      "--- Proceeding to quit ---\n",
      "--- Quiting Toxic Shroom Game ---\n",
      "--- Saving Current Account Progress ---\n"
     ]
    },
    {
     "ename": "SystemExit",
     "evalue": "",
     "output_type": "error",
     "traceback": [
      "An exception has occurred, use %tb to see the full traceback.\n",
      "\u001b[0;31mSystemExit\u001b[0m\n"
     ]
    },
    {
     "name": "stderr",
     "output_type": "stream",
     "text": [
      "/Users/glynge/opt/anaconda3/lib/python3.8/site-packages/IPython/core/interactiveshell.py:3351: UserWarning: To exit: use 'exit', 'quit', or Ctrl-D.\n",
      "  warn(\"To exit: use 'exit', 'quit', or Ctrl-D.\", stacklevel=1)\n"
     ]
    }
   ],
   "source": [
    "# account: HappySunday\n",
    "# password: HappySunday\n",
    "demo.start()"
   ]
  },
  {
   "cell_type": "code",
   "execution_count": null,
   "metadata": {},
   "outputs": [],
   "source": []
  }
 ],
 "metadata": {
  "kernelspec": {
   "display_name": "Python 3",
   "language": "python",
   "name": "python3"
  },
  "language_info": {
   "codemirror_mode": {
    "name": "ipython",
    "version": 3
   },
   "file_extension": ".py",
   "mimetype": "text/x-python",
   "name": "python",
   "nbconvert_exporter": "python",
   "pygments_lexer": "ipython3",
   "version": "3.8.3"
  }
 },
 "nbformat": 4,
 "nbformat_minor": 4
}
