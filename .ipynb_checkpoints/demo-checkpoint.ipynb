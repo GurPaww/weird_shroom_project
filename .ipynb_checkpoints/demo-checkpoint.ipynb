{
 "cells": [
  {
   "cell_type": "code",
   "execution_count": 1,
   "metadata": {},
   "outputs": [],
   "source": [
    "# import os\n",
    "from gameplay import GamePlay"
   ]
  },
  {
   "cell_type": "code",
   "execution_count": 2,
   "metadata": {},
   "outputs": [
    {
     "name": "stdout",
     "output_type": "stream",
     "text": [
      "--- Loading Menu ---\n",
      "--- Finished Loading menu DataBase ---\n",
      "--- Loading Account DataBase ---\n",
      "--- Finished Loading Account DataBase ---\n"
     ]
    }
   ],
   "source": [
    "demo = GamePlay()"
   ]
  },
  {
   "cell_type": "code",
   "execution_count": 3,
   "metadata": {
    "scrolled": false
   },
   "outputs": [
    {
     "name": "stdout",
     "output_type": "stream",
     "text": [
      "Do you want to create/delete account? Y/N N\n",
      "\n",
      ">>> You are currently @ manage_account <<<\n",
      "quit: quit\n",
      "1: login\n",
      "2: manage_account\n",
      "Where do you want to proceed next: 1\n",
      "--- Proceeding to login ---\n",
      "Enter your account: fallen\n",
      "Enter your password: ff1\n",
      ">>> Login Successfully <<<\n",
      "\n",
      ">>> You are currently @ login <<<\n",
      "quit: quit\n",
      "1: manage_account\n",
      "2: character_selection\n",
      "3: login\n",
      "Where do you want to proceed next: 2\n",
      "--- Proceeding to character_selection ---\n",
      "--- Loading fallen Info ---\n",
      "Empty DataFrame\n",
      "Columns: []\n",
      "Index: [character_level, character_exp, job_id, character_name]\n",
      "--- Finished Loading fallen Info ---\n",
      ">>> fallen currently has no character <<<\n",
      "Enter your first character's name: OoMagioO\n",
      "--- Reloading fallen Info ---\n",
      "                        0\n",
      "character_level         1\n",
      "character_exp           0\n",
      "job_id                  0\n",
      "character_name   OoMagioO\n",
      "--- Finished Reloading fallen Info ---\n",
      "Enter character ID: 1\n",
      ">>> That Character Does Not Exist <<<\n",
      "Enter character ID: 0]\n",
      ">>> Please Enter A Number <<<\n",
      "Enter character ID: 0\n",
      "--- Loading Job Info ---\n",
      "--- Finished Loading Job Info ---\n",
      "Lvl: 1 Beginner\n",
      "[                    ]  0 %\n",
      "OoMagioO\n",
      "\n",
      ">>> You are currently @ in_game <<<\n",
      "quit: quit\n",
      "1: login\n",
      "2: character_selection\n",
      "3: hene_hoe\n",
      "4: training_ground\n",
      "Where do you want to proceed next: 2\n",
      "--- Proceeding to character_selection ---\n",
      "--- Loading fallen Info ---\n",
      "                        0\n",
      "character_level         1\n",
      "character_exp           0\n",
      "job_id                  0\n",
      "character_name   OoMagioO\n",
      "--- Finished Loading fallen Info ---\n",
      "Enter character ID: 0\n",
      "--- Loading Job Info ---\n",
      "--- Finished Loading Job Info ---\n",
      "Lvl: 1 Beginner\n",
      "[                    ]  0 %\n",
      "OoMagioO\n",
      "\n",
      ">>> You are currently @ in_game <<<\n",
      "quit: quit\n",
      "1: login\n",
      "2: character_selection\n",
      "3: hene_hoe\n",
      "4: training_ground\n",
      "Where do you want to proceed next: 1\n",
      "--- Proceeding to login ---\n",
      ">>> fallen is currently logged in <<<\n",
      "Do you want to logout? Y/N Y\n",
      ">>> Logout Successfully <<<\n",
      ">>> Proceeding to login <<<\n",
      "\n",
      ">>> You are currently @ login <<<\n",
      "quit: quit\n",
      "1: manage_account\n",
      "2: character_selection\n",
      "3: login\n",
      "Where do you want to proceed next: 1\n",
      "--- Proceeding to manage_account ---\n",
      "Do you want to create/delete account? Y/N Y\n",
      "Register? Y/N N\n",
      "Enter your account: fallen\n",
      "Enter your password: ff1\n",
      "Are you sure you want to delete fallen? Y/N Y\n",
      ">>> fallen Has Been Deleted Successfully <<<\n",
      "\n",
      ">>> You are currently @ manage_account <<<\n",
      "quit: quit\n",
      "1: login\n",
      "2: manage_account\n",
      "Where do you want to proceed next: quit\n",
      "--- Proceeding to quit ---\n",
      "--- Quiting Toxic Shroom Game ---\n"
     ]
    },
    {
     "ename": "NameError",
     "evalue": "name 'quit' is not defined",
     "output_type": "error",
     "traceback": [
      "\u001b[0;31m---------------------------------------------------------------------------\u001b[0m",
      "\u001b[0;31mNameError\u001b[0m                                 Traceback (most recent call last)",
      "\u001b[0;32m<ipython-input-3-5a87852f25ca>\u001b[0m in \u001b[0;36m<module>\u001b[0;34m\u001b[0m\n\u001b[1;32m      1\u001b[0m \u001b[0;31m# account: HappySunday\u001b[0m\u001b[0;34m\u001b[0m\u001b[0;34m\u001b[0m\u001b[0;34m\u001b[0m\u001b[0m\n\u001b[1;32m      2\u001b[0m \u001b[0;31m# password: HappySunday\u001b[0m\u001b[0;34m\u001b[0m\u001b[0;34m\u001b[0m\u001b[0;34m\u001b[0m\u001b[0m\n\u001b[0;32m----> 3\u001b[0;31m \u001b[0mdemo\u001b[0m\u001b[0;34m.\u001b[0m\u001b[0mstart\u001b[0m\u001b[0;34m(\u001b[0m\u001b[0;34m)\u001b[0m\u001b[0;34m\u001b[0m\u001b[0;34m\u001b[0m\u001b[0m\n\u001b[0m",
      "\u001b[0;32m~/Documents/GitHub/weird_shroom_project/gameplay.py\u001b[0m in \u001b[0;36mstart\u001b[0;34m(self)\u001b[0m\n\u001b[1;32m    180\u001b[0m         \u001b[0mself\u001b[0m\u001b[0;34m.\u001b[0m\u001b[0mcurrent_menu\u001b[0m \u001b[0;34m=\u001b[0m \u001b[0;34m'manage_account'\u001b[0m\u001b[0;34m\u001b[0m\u001b[0;34m\u001b[0m\u001b[0m\n\u001b[1;32m    181\u001b[0m         \u001b[0;32mwhile\u001b[0m \u001b[0mgame\u001b[0m\u001b[0;34m:\u001b[0m\u001b[0;34m\u001b[0m\u001b[0;34m\u001b[0m\u001b[0m\n\u001b[0;32m--> 182\u001b[0;31m             \u001b[0mself\u001b[0m\u001b[0;34m.\u001b[0m\u001b[0mmenu\u001b[0m\u001b[0;34m(\u001b[0m\u001b[0;34m)\u001b[0m\u001b[0;34m\u001b[0m\u001b[0;34m\u001b[0m\u001b[0m\n\u001b[0m",
      "\u001b[0;32m~/Documents/GitHub/weird_shroom_project/gameplay.py\u001b[0m in \u001b[0;36mmenu\u001b[0;34m(self)\u001b[0m\n\u001b[1;32m    169\u001b[0m         \u001b[0;32melse\u001b[0m\u001b[0;34m:\u001b[0m\u001b[0;34m\u001b[0m\u001b[0;34m\u001b[0m\u001b[0m\n\u001b[1;32m    170\u001b[0m             \u001b[0mprint\u001b[0m\u001b[0;34m(\u001b[0m\u001b[0;34mf'--- Quiting Toxic Shroom Game ---'\u001b[0m\u001b[0;34m)\u001b[0m\u001b[0;34m\u001b[0m\u001b[0;34m\u001b[0m\u001b[0m\n\u001b[0;32m--> 171\u001b[0;31m             \u001b[0mquit\u001b[0m\u001b[0;34m(\u001b[0m\u001b[0;34m)\u001b[0m\u001b[0;34m\u001b[0m\u001b[0;34m\u001b[0m\u001b[0m\n\u001b[0m\u001b[1;32m    172\u001b[0m         \u001b[0mself\u001b[0m\u001b[0;34m.\u001b[0m\u001b[0mnext_menu\u001b[0m\u001b[0;34m(\u001b[0m\u001b[0;34m)\u001b[0m\u001b[0;34m\u001b[0m\u001b[0;34m\u001b[0m\u001b[0m\n\u001b[1;32m    173\u001b[0m \u001b[0;34m\u001b[0m\u001b[0m\n",
      "\u001b[0;31mNameError\u001b[0m: name 'quit' is not defined"
     ]
    }
   ],
   "source": [
    "# account: HappySunday\n",
    "# password: HappySunday\n",
    "demo.start()"
   ]
  },
  {
   "cell_type": "code",
   "execution_count": null,
   "metadata": {},
   "outputs": [],
   "source": []
  }
 ],
 "metadata": {
  "kernelspec": {
   "display_name": "Python 3",
   "language": "python",
   "name": "python3"
  },
  "language_info": {
   "codemirror_mode": {
    "name": "ipython",
    "version": 3
   },
   "file_extension": ".py",
   "mimetype": "text/x-python",
   "name": "python",
   "nbconvert_exporter": "python",
   "pygments_lexer": "ipython3",
   "version": "3.8.3"
  }
 },
 "nbformat": 4,
 "nbformat_minor": 4
}
