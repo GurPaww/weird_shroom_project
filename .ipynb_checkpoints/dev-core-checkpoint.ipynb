{
 "cells": [
  {
   "cell_type": "code",
   "execution_count": 1,
   "metadata": {},
   "outputs": [],
   "source": [
    "# import os\n",
    "from GAME_CORE.gameplay import GamePlay"
   ]
  },
  {
   "cell_type": "code",
   "execution_count": 2,
   "metadata": {},
   "outputs": [
    {
     "name": "stdout",
     "output_type": "stream",
     "text": [
      "--- Initializing Toxic Shroom Game ---\n",
      "--- Loading Menu ---\n",
      "--- Finished Loading menu DataBase ---\n",
      "--- Loading Account DataBase ---\n",
      "--- Finished Loading Account DataBase ---\n",
      "--- Game Is Loaded @ V0.01 ---\n",
      "--- Current Time Is Thu Jan 19 01:47:53 2023 ---\n"
     ]
    }
   ],
   "source": [
    "demo = GamePlay()"
   ]
  },
  {
   "cell_type": "code",
   "execution_count": 3,
   "metadata": {
    "scrolled": false
   },
   "outputs": [
    {
     "name": "stdout",
     "output_type": "stream",
     "text": [
      "Do you want to create/delete account? Y/N N\n",
      "\n",
      ">>> You are currently @ manage_account <<<\n",
      "quit: quit\n",
      "1: login\n",
      "2: manage_account\n",
      "Where do you want to proceed next: 1\n",
      "--- Proceeding to login ---\n",
      "Enter your account: HappySunday\n",
      "Enter your password: HappySunday\n",
      ">>> Login Successfully <<<\n",
      "\n",
      ">>> You are currently @ login <<<\n",
      "quit: quit\n",
      "1: manage_account\n",
      "2: character_selection\n",
      "3: login\n",
      "Where do you want to proceed next: 2\n",
      "--- Proceeding to character_selection ---\n",
      "--- Loading HappySunday Info ---\n",
      "                    0     1\n",
      "character_level    12    29\n",
      "character_exp      99    21\n",
      "job_id              1     3\n",
      "character_name   fate  luck\n",
      "str                70     4\n",
      "dex                 4     4\n",
      "luk                 4   205\n",
      "int                 4     4\n",
      "attack_type      watt  watt\n",
      "--- Finished Loading HappySunday Info ---\n",
      "Enter character ID: 1\n",
      "--- Loading Job Info ---\n",
      "--- Finished Loading Job Info ---\n",
      "Lvl: 29 Rogue\n",
      "[====                ]  21 %\n",
      "luck\n",
      "Str: 4\n",
      "Dex: 4\n",
      "Luk: 205\n",
      "Int: 4\n",
      "Weapon Attack: 4\n",
      "Magic Attack: 4\n",
      "Accuracy: 102.34 %\n",
      "Evasion: 10.95 %\n",
      "\n",
      ">>> You are currently @ in_game <<<\n",
      "quit: quit\n",
      "1: login\n",
      "2: character_selection\n",
      "3: hene_hoe\n",
      "4: training_ground\n",
      "Where do you want to proceed next: 4\n",
      "--- Proceeding to training_ground ---\n",
      "--- Quiting Toxic Shroom Game ---\n",
      "--- Saving Current Account Progress ---\n"
     ]
    },
    {
     "ename": "SystemExit",
     "evalue": "",
     "output_type": "error",
     "traceback": [
      "An exception has occurred, use %tb to see the full traceback.\n",
      "\u001b[0;31mSystemExit\u001b[0m\n"
     ]
    },
    {
     "name": "stderr",
     "output_type": "stream",
     "text": [
      "/Users/glynge/opt/anaconda3/lib/python3.8/site-packages/IPython/core/interactiveshell.py:3351: UserWarning: To exit: use 'exit', 'quit', or Ctrl-D.\n",
      "  warn(\"To exit: use 'exit', 'quit', or Ctrl-D.\", stacklevel=1)\n"
     ]
    }
   ],
   "source": [
    "# account: HappySunday\n",
    "# password: HappySunday\n",
    "demo.start()"
   ]
  },
  {
   "cell_type": "code",
   "execution_count": null,
   "metadata": {
    "scrolled": true
   },
   "outputs": [],
   "source": [
    "demo.menu.character.display_info()"
   ]
  },
  {
   "cell_type": "code",
   "execution_count": null,
   "metadata": {},
   "outputs": [],
   "source": [
    "demo.menu.character.check_if_lvl_up()"
   ]
  },
  {
   "cell_type": "code",
   "execution_count": null,
   "metadata": {},
   "outputs": [],
   "source": [
    "demo.menu.character.job_advancement(2, 5)"
   ]
  },
  {
   "cell_type": "code",
   "execution_count": null,
   "metadata": {},
   "outputs": [],
   "source": [
    "demo.menu.character.job_df"
   ]
  },
  {
   "cell_type": "code",
   "execution_count": 1,
   "metadata": {},
   "outputs": [],
   "source": [
    "from GAME_CORE.character import Character"
   ]
  },
  {
   "cell_type": "code",
   "execution_count": 2,
   "metadata": {},
   "outputs": [
    {
     "name": "stdout",
     "output_type": "stream",
     "text": [
      "--- Loading Job Info ---\n",
      "--- Finished Loading Job Info ---\n"
     ]
    }
   ],
   "source": [
    "test_char = Character()"
   ]
  },
  {
   "cell_type": "code",
   "execution_count": 3,
   "metadata": {},
   "outputs": [
    {
     "name": "stdout",
     "output_type": "stream",
     "text": [
      "Lvl: 1 Beginner\n",
      "[                    ]  0 %\n",
      "Noob 516\n"
     ]
    }
   ],
   "source": [
    "test_char.display_info()"
   ]
  },
  {
   "cell_type": "code",
   "execution_count": 4,
   "metadata": {},
   "outputs": [
    {
     "name": "stdout",
     "output_type": "stream",
     "text": [
      "Str: 10\n",
      "Dex: 4\n",
      "Luk: 4\n",
      "Int: 4\n",
      "Weapon Attack: 10\n",
      "Magic Attack: 4\n",
      "Accuracy: 100.24 %\n",
      "Evasion: 0.24 %\n"
     ]
    }
   ],
   "source": [
    "test_char.display_stats()"
   ]
  },
  {
   "cell_type": "code",
   "execution_count": 6,
   "metadata": {},
   "outputs": [],
   "source": [
    "att, acc, type_ = test_char.issue_attack()"
   ]
  },
  {
   "cell_type": "code",
   "execution_count": 7,
   "metadata": {},
   "outputs": [],
   "source": [
    "from mob import Mob"
   ]
  },
  {
   "cell_type": "code",
   "execution_count": 8,
   "metadata": {},
   "outputs": [],
   "source": [
    "test_mob = Mob()"
   ]
  },
  {
   "cell_type": "code",
   "execution_count": 9,
   "metadata": {},
   "outputs": [
    {
     "name": "stdout",
     "output_type": "stream",
     "text": [
      "Name: Orange Mushroom\n",
      "Level: 8\n",
      "Weapon Attack: 20\n",
      "Magic Attack: 2\n",
      "HP: 60\n",
      "MP: 5\n",
      "Evasion: 0.6 %\n",
      "Attack Type: watt\n"
     ]
    }
   ],
   "source": [
    "test_mob.display_info()"
   ]
  },
  {
   "cell_type": "code",
   "execution_count": 10,
   "metadata": {},
   "outputs": [
    {
     "ename": "TypeError",
     "evalue": "issue_attack() takes 1 positional argument but 4 were given",
     "output_type": "error",
     "traceback": [
      "\u001b[0;31m---------------------------------------------------------------------------\u001b[0m",
      "\u001b[0;31mTypeError\u001b[0m                                 Traceback (most recent call last)",
      "\u001b[0;32m<ipython-input-10-389cc29a81ad>\u001b[0m in \u001b[0;36m<module>\u001b[0;34m\u001b[0m\n\u001b[0;32m----> 1\u001b[0;31m \u001b[0mtest_mob\u001b[0m\u001b[0;34m.\u001b[0m\u001b[0missue_attack\u001b[0m\u001b[0;34m(\u001b[0m\u001b[0matt\u001b[0m\u001b[0;34m,\u001b[0m \u001b[0macc\u001b[0m\u001b[0;34m,\u001b[0m \u001b[0mtype_\u001b[0m \u001b[0;34m)\u001b[0m\u001b[0;34m\u001b[0m\u001b[0;34m\u001b[0m\u001b[0m\n\u001b[0m",
      "\u001b[0;31mTypeError\u001b[0m: issue_attack() takes 1 positional argument but 4 were given"
     ]
    }
   ],
   "source": [
    "test_mob.issue_attack()"
   ]
  },
  {
   "cell_type": "code",
   "execution_count": 11,
   "metadata": {},
   "outputs": [
    {
     "name": "stdout",
     "output_type": "stream",
     "text": [
      "~ 1 ~\n"
     ]
    }
   ],
   "source": [
    "test_mob.receive_attack(att, acc, type_)"
   ]
  },
  {
   "cell_type": "code",
   "execution_count": 13,
   "metadata": {},
   "outputs": [
    {
     "data": {
      "text/plain": [
       "False"
      ]
     },
     "execution_count": 13,
     "metadata": {},
     "output_type": "execute_result"
    }
   ],
   "source": [
    "test_mob.is_dead()"
   ]
  },
  {
   "cell_type": "code",
   "execution_count": 14,
   "metadata": {
    "scrolled": true
   },
   "outputs": [
    {
     "name": "stdout",
     "output_type": "stream",
     "text": [
      "~ 1 ~\n",
      "~ 1 ~\n",
      "~ 1 ~\n",
      "~ 1 ~\n",
      "~ 1 ~\n",
      "~ 1 ~\n",
      "~ 1 ~\n",
      "~ 1 ~\n",
      "~ 1 ~\n",
      "~ 1 ~\n",
      "~ 1 ~\n",
      "~ 1 ~\n",
      "~ 1 ~\n",
      "~ 1 ~\n",
      "~ 1 ~\n",
      "~ 1 ~\n",
      "~ 1 ~\n",
      "~ 1 ~\n",
      "~ 1 ~\n",
      "~ 1 ~\n",
      "~ 1 ~\n",
      "~ 1 ~\n",
      "~ 1 ~\n",
      "~ 1 ~\n",
      "~ 1 ~\n",
      "~ 1 ~\n",
      "~ 1 ~\n",
      "~ 1 ~\n",
      "~ 1 ~\n",
      "~ 1 ~\n",
      "~ 1 ~\n",
      "~ 1 ~\n",
      "~ 1 ~\n",
      "~ 1 ~\n",
      "~ 1 ~\n",
      "~ 1 ~\n",
      "~ 1 ~\n",
      "~ 1 ~\n",
      "~ 1 ~\n",
      "~ 1 ~\n",
      "~ 1 ~\n",
      "~ 1 ~\n",
      "~ 1 ~\n",
      "~ 1 ~\n",
      "~ 1 ~\n",
      "~ 1 ~\n",
      "~ 1 ~\n",
      "~ 1 ~\n",
      "~ 1 ~\n",
      "~ 1 ~\n",
      "~ 1 ~\n",
      "~ 1 ~\n",
      "~ 1 ~\n",
      "~ 1 ~\n",
      "~ 1 ~\n",
      "~ 1 ~\n",
      "~ 1 ~\n",
      "~ 1 ~\n",
      "~ 1 ~\n"
     ]
    }
   ],
   "source": [
    "while not test_mob.is_dead():\n",
    "    test_mob.receive_attack(att, acc, type_)"
   ]
  },
  {
   "cell_type": "code",
   "execution_count": null,
   "metadata": {},
   "outputs": [],
   "source": []
  }
 ],
 "metadata": {
  "kernelspec": {
   "display_name": "Python 3",
   "language": "python",
   "name": "python3"
  },
  "language_info": {
   "codemirror_mode": {
    "name": "ipython",
    "version": 3
   },
   "file_extension": ".py",
   "mimetype": "text/x-python",
   "name": "python",
   "nbconvert_exporter": "python",
   "pygments_lexer": "ipython3",
   "version": "3.8.3"
  }
 },
 "nbformat": 4,
 "nbformat_minor": 4
}
