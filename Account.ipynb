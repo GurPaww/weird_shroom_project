{
 "cells": [
  {
   "cell_type": "code",
   "execution_count": 15,
   "metadata": {},
   "outputs": [],
   "source": [
    "import os\n",
    "import pandas as pd\n",
    "import numpy as np\n",
    "import json"
   ]
  },
  {
   "cell_type": "code",
   "execution_count": 13,
   "metadata": {},
   "outputs": [],
   "source": [
    "account_dict = {\n",
    "    'HappySunday': {\n",
    "        'password': 'HappySunday',\n",
    "        'role': 'admin',\n",
    "        'account_id': 0\n",
    "    },\n",
    "    'WraithKing': {\n",
    "        'password': 'WraithKing',\n",
    "        'role': 'gm',\n",
    "        'account_id': 1\n",
    "    },\n",
    "    'HPWash':{\n",
    "        'password': 'HPWash',\n",
    "        'role': 'normal',\n",
    "        'account_id': 1000\n",
    "    }\n",
    "    # TODO: VIP\n",
    "}"
   ]
  },
  {
   "cell_type": "code",
   "execution_count": 16,
   "metadata": {},
   "outputs": [],
   "source": [
    "# create json object from dictionary\n",
    "json = json.dumps(account_dict)\n",
    "\n",
    "# open file for writing, \"w\" \n",
    "f = open(\"account_dict.json\",\"w\")\n",
    "\n",
    "# write json object to file\n",
    "f.write(json)\n",
    "\n",
    "# close file\n",
    "f.close()\n"
   ]
  },
  {
   "cell_type": "code",
   "execution_count": 6,
   "metadata": {},
   "outputs": [],
   "source": [
    "account_df = pd.DataFrame(account_dict)\n",
    "account_df"
   ]
  },
  {
   "cell_type": "code",
   "execution_count": 36,
   "metadata": {},
   "outputs": [],
   "source": [
    "account_info = {\n",
    "    0: {\n",
    "        'character_level': 12,\n",
    "        'character_exp': 99,\n",
    "        'job_id': 1,\n",
    "        'character_name': 'fate'\n",
    "    },\n",
    "    1: {\n",
    "        'character_name': 'luck',\n",
    "        'job_id': 3,\n",
    "        'character_level': 29,\n",
    "        'character_exp': 21\n",
    "    }\n",
    "}"
   ]
  },
  {
   "cell_type": "code",
   "execution_count": 37,
   "metadata": {},
   "outputs": [],
   "source": [
    "pd.DataFrame(account_info).to_csv('ACCOUNT_INFO/HappySunday.csv')"
   ]
  },
  {
   "cell_type": "code",
   "execution_count": 38,
   "metadata": {},
   "outputs": [
    {
     "data": {
      "text/html": [
       "<div>\n",
       "<style scoped>\n",
       "    .dataframe tbody tr th:only-of-type {\n",
       "        vertical-align: middle;\n",
       "    }\n",
       "\n",
       "    .dataframe tbody tr th {\n",
       "        vertical-align: top;\n",
       "    }\n",
       "\n",
       "    .dataframe thead th {\n",
       "        text-align: right;\n",
       "    }\n",
       "</style>\n",
       "<table border=\"1\" class=\"dataframe\">\n",
       "  <thead>\n",
       "    <tr style=\"text-align: right;\">\n",
       "      <th></th>\n",
       "      <th>0</th>\n",
       "      <th>1</th>\n",
       "    </tr>\n",
       "  </thead>\n",
       "  <tbody>\n",
       "    <tr>\n",
       "      <th>character_level</th>\n",
       "      <td>12</td>\n",
       "      <td>29</td>\n",
       "    </tr>\n",
       "    <tr>\n",
       "      <th>character_exp</th>\n",
       "      <td>99</td>\n",
       "      <td>21</td>\n",
       "    </tr>\n",
       "    <tr>\n",
       "      <th>job_id</th>\n",
       "      <td>1</td>\n",
       "      <td>3</td>\n",
       "    </tr>\n",
       "    <tr>\n",
       "      <th>character_name</th>\n",
       "      <td>fate</td>\n",
       "      <td>luck</td>\n",
       "    </tr>\n",
       "  </tbody>\n",
       "</table>\n",
       "</div>"
      ],
      "text/plain": [
       "                    0     1\n",
       "character_level    12    29\n",
       "character_exp      99    21\n",
       "job_id              1     3\n",
       "character_name   fate  luck"
      ]
     },
     "execution_count": 38,
     "metadata": {},
     "output_type": "execute_result"
    }
   ],
   "source": [
    "empty = pd.DataFrame(account_info)\n",
    "empty"
   ]
  },
  {
   "cell_type": "code",
   "execution_count": 40,
   "metadata": {},
   "outputs": [],
   "source": [
    "empty.drop([0,1], axis = 1).to_csv('ACCOUNT_INFO/empty_account.csv')"
   ]
  }
 ],
 "metadata": {
  "kernelspec": {
   "display_name": "Python 3",
   "language": "python",
   "name": "python3"
  },
  "language_info": {
   "codemirror_mode": {
    "name": "ipython",
    "version": 3
   },
   "file_extension": ".py",
   "mimetype": "text/x-python",
   "name": "python",
   "nbconvert_exporter": "python",
   "pygments_lexer": "ipython3",
   "version": "3.8.3"
  }
 },
 "nbformat": 4,
 "nbformat_minor": 4
}
